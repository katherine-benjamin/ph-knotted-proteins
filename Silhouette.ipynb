{
 "cells": [
  {
   "cell_type": "code",
   "execution_count": 1,
   "id": "1e02fa2b",
   "metadata": {},
   "outputs": [],
   "source": [
    "import numpy as np\n",
    "import pandas as pd\n",
    "import seaborn as sns\n",
    "import matplotlib.pyplot as plt\n",
    "from sklearn import metrics"
   ]
  },
  {
   "cell_type": "code",
   "execution_count": 2,
   "id": "a9a52a94",
   "metadata": {},
   "outputs": [],
   "source": [
    "def save_fig(name):\n",
    "    plt.savefig('./figures/interpolated_x1/' + name + '.pdf', bbox_inches='tight', transparent=True)\n",
    "    plt.savefig('./figures/interpolated_x1/' + name + '.png', bbox_inches='tight', transparent=True, dpi=900)\n",
    "\n",
    "plt.rcParams['figure.figsize'] = (2.5,2.5)\n",
    "\n",
    "plt.rcParams['axes.labelsize'] = 10\n",
    "plt.rcParams['axes.titlesize'] = 10\n",
    "plt.rcParams['font.size'] = 10\n",
    "plt.rcParams['legend.title_fontsize'] = 9\n",
    "\n",
    "plt.rc('font', **{'family': 'serif', 'serif': ['Computer Modern']})\n",
    "plt.rc('text', usetex=True)"
   ]
  },
  {
   "cell_type": "code",
   "execution_count": 3,
   "id": "02ccbd24",
   "metadata": {},
   "outputs": [],
   "source": [
    "trefoil_df = pd.read_csv('trefoil_list.csv')\n",
    "\n",
    "trefoil_df.Representative = list(map(lambda x: x if x == 'Other' else x[:4].upper(), trefoil_df.Representative))"
   ]
  },
  {
   "cell_type": "code",
   "execution_count": 4,
   "id": "8e42a8c5",
   "metadata": {},
   "outputs": [],
   "source": [
    "def get_iso(noise):\n",
    "    if noise == 0:\n",
    "        return np.loadtxt('./data/validation/landscape_iso_x1.txt')[:363]\n",
    "    return np.loadtxt('./data/validation/landscape_iso_x1_v{}.txt'.format(noise))[:363]"
   ]
  },
  {
   "cell_type": "code",
   "execution_count": 5,
   "id": "8c578b8b",
   "metadata": {},
   "outputs": [],
   "source": [
    "labels = list(trefoil_df.Representative)[:363] # This takes just proteins in the main clusters"
   ]
  },
  {
   "cell_type": "code",
   "execution_count": 22,
   "id": "9c1451aa",
   "metadata": {},
   "outputs": [],
   "source": [
    "xs = [x/10 for x in range(10)] + [1]\n",
    "\n",
    "values = [metrics.silhouette_score(get_iso(noise), labels) for noise in xs]"
   ]
  },
  {
   "cell_type": "code",
   "execution_count": 23,
   "id": "531aaab1",
   "metadata": {},
   "outputs": [
    {
     "data": {
      "image/png": "[encoded data removed]",
      "text/plain": [
       "<Figure size 180x180 with 1 Axes>"
      ]
     },
     "metadata": {
      "needs_background": "light"
     },
     "output_type": "display_data"
    }
   ],
   "source": [
    "ax = sns.scatterplot(x=xs, y=values, edgecolor=\"DarkSlateGray\", s=20, linewidth=0.5)\n",
    "ax = sns.lineplot(ax=ax, x=[-1, 2], y=[0,0], style=True, dashes=[(2,2)], color='DarkSlateGray', alpha=0.5)\n",
    "ax.set_xlim([-0.05, 1.05])\n",
    "\n",
    "ax.set_xlabel('$\\sigma$')\n",
    "ax.set_ylabel('Silhouette coefficient')\n",
    "\n",
    "ax.get_legend().remove()\n",
    "\n",
    "save_fig('silhouette')"
   ]
  },
  {
   "cell_type": "code",
   "execution_count": null,
   "id": "fa00cc23",
   "metadata": {},
   "outputs": [],
   "source": []
  }
 ],
 "metadata": {
  "kernelspec": {
   "display_name": "Python 3 (ipykernel)",
   "language": "python",
   "name": "python3"
  },
  "language_info": {
   "codemirror_mode": {
    "name": "ipython",
    "version": 3
   },
   "file_extension": ".py",
   "mimetype": "text/x-python",
   "name": "python",
   "nbconvert_exporter": "python",
   "pygments_lexer": "ipython3",
   "version": "3.9.5"
  }
 },
 "nbformat": 4,
 "nbformat_minor": 5
}
